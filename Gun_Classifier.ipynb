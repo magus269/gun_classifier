{
 "cells": [
  {
   "cell_type": "markdown",
   "id": "98fd364a",
   "metadata": {},
   "source": [
    "# This will contain the code to run the gun classifier web app"
   ]
  },
  {
   "cell_type": "markdown",
   "id": "a81858d1",
   "metadata": {},
   "source": [
    "First we need to ensure the following are installed "
   ]
  },
  {
   "cell_type": "code",
   "execution_count": 1,
   "id": "d1e53ae6",
   "metadata": {},
   "outputs": [
    {
     "name": "stdout",
     "output_type": "stream",
     "text": [
      "Requirement already satisfied: voila in c:\\users\\magus\\anaconda3\\envs\\ml\\lib\\site-packages (0.3.5)\n",
      "Requirement already satisfied: nbclient<0.6,>=0.4.0 in c:\\users\\magus\\anaconda3\\envs\\ml\\lib\\site-packages (from voila) (0.5.11)\n",
      "Requirement already satisfied: nbconvert<7,>=6.4.5 in c:\\users\\magus\\anaconda3\\envs\\ml\\lib\\site-packages (from voila) (6.4.5)\n",
      "Requirement already satisfied: jupyter-client<8,>=6.1.3 in c:\\users\\magus\\anaconda3\\envs\\ml\\lib\\site-packages (from voila) (7.1.2)\n",
      "Requirement already satisfied: websockets>=9.0 in c:\\users\\magus\\anaconda3\\envs\\ml\\lib\\site-packages (from voila) (10.2)\n",
      "Requirement already satisfied: traitlets<6,>=5.0.3 in c:\\users\\magus\\anaconda3\\envs\\ml\\lib\\site-packages (from voila) (5.1.1)\n",
      "Requirement already satisfied: jupyter-server<2.0.0,>=0.3.0 in c:\\users\\magus\\anaconda3\\envs\\ml\\lib\\site-packages (from voila) (1.16.0)\n",
      "Requirement already satisfied: jupyterlab-server<3,>=2.3.0 in c:\\users\\magus\\anaconda3\\envs\\ml\\lib\\site-packages (from voila) (2.12.0)\n",
      "Requirement already satisfied: python-dateutil>=2.1 in c:\\users\\magus\\anaconda3\\envs\\ml\\lib\\site-packages (from jupyter-client<8,>=6.1.3->voila) (2.8.2)\n",
      "Requirement already satisfied: nest-asyncio>=1.5 in c:\\users\\magus\\anaconda3\\envs\\ml\\lib\\site-packages (from jupyter-client<8,>=6.1.3->voila) (1.5.1)\n",
      "Requirement already satisfied: entrypoints in c:\\users\\magus\\anaconda3\\envs\\ml\\lib\\site-packages (from jupyter-client<8,>=6.1.3->voila) (0.3)\n",
      "Requirement already satisfied: tornado>=4.1 in c:\\users\\magus\\anaconda3\\envs\\ml\\lib\\site-packages (from jupyter-client<8,>=6.1.3->voila) (6.1)\n",
      "Requirement already satisfied: pyzmq>=13 in c:\\users\\magus\\anaconda3\\envs\\ml\\lib\\site-packages (from jupyter-client<8,>=6.1.3->voila) (22.3.0)\n",
      "Requirement already satisfied: jupyter-core>=4.6.0 in c:\\users\\magus\\anaconda3\\envs\\ml\\lib\\site-packages (from jupyter-client<8,>=6.1.3->voila) (4.9.2)\n",
      "Requirement already satisfied: pywin32>=1.0 in c:\\users\\magus\\anaconda3\\envs\\ml\\lib\\site-packages (from jupyter-core>=4.6.0->jupyter-client<8,>=6.1.3->voila) (302)\n",
      "Requirement already satisfied: pywinpty in c:\\users\\magus\\anaconda3\\envs\\ml\\lib\\site-packages (from jupyter-server<2.0.0,>=0.3.0->voila) (2.0.2)\n",
      "Requirement already satisfied: terminado>=0.8.3 in c:\\users\\magus\\anaconda3\\envs\\ml\\lib\\site-packages (from jupyter-server<2.0.0,>=0.3.0->voila) (0.13.1)\n",
      "Requirement already satisfied: jinja2 in c:\\users\\magus\\anaconda3\\envs\\ml\\lib\\site-packages (from jupyter-server<2.0.0,>=0.3.0->voila) (3.0.3)\n",
      "Requirement already satisfied: anyio>=3.1.0 in c:\\users\\magus\\anaconda3\\envs\\ml\\lib\\site-packages (from jupyter-server<2.0.0,>=0.3.0->voila) (3.5.0)\n",
      "Requirement already satisfied: nbformat>=5.2.0 in c:\\users\\magus\\anaconda3\\envs\\ml\\lib\\site-packages (from jupyter-server<2.0.0,>=0.3.0->voila) (5.3.0)\n",
      "Requirement already satisfied: Send2Trash in c:\\users\\magus\\anaconda3\\envs\\ml\\lib\\site-packages (from jupyter-server<2.0.0,>=0.3.0->voila) (1.8.0)\n",
      "Requirement already satisfied: prometheus-client in c:\\users\\magus\\anaconda3\\envs\\ml\\lib\\site-packages (from jupyter-server<2.0.0,>=0.3.0->voila) (0.13.1)\n",
      "Requirement already satisfied: argon2-cffi in c:\\users\\magus\\anaconda3\\envs\\ml\\lib\\site-packages (from jupyter-server<2.0.0,>=0.3.0->voila) (21.3.0)\n",
      "Requirement already satisfied: packaging in c:\\users\\magus\\anaconda3\\envs\\ml\\lib\\site-packages (from jupyter-server<2.0.0,>=0.3.0->voila) (21.3)\n",
      "Requirement already satisfied: websocket-client in c:\\users\\magus\\anaconda3\\envs\\ml\\lib\\site-packages (from jupyter-server<2.0.0,>=0.3.0->voila) (1.3.2)\n",
      "Requirement already satisfied: sniffio>=1.1 in c:\\users\\magus\\anaconda3\\envs\\ml\\lib\\site-packages (from anyio>=3.1.0->jupyter-server<2.0.0,>=0.3.0->voila) (1.2.0)\n",
      "Requirement already satisfied: idna>=2.8 in c:\\users\\magus\\anaconda3\\envs\\ml\\lib\\site-packages (from anyio>=3.1.0->jupyter-server<2.0.0,>=0.3.0->voila) (3.3)\n",
      "Requirement already satisfied: typing-extensions in c:\\users\\magus\\anaconda3\\envs\\ml\\lib\\site-packages (from anyio>=3.1.0->jupyter-server<2.0.0,>=0.3.0->voila) (3.10.0.2)\n",
      "Requirement already satisfied: requests in c:\\users\\magus\\anaconda3\\envs\\ml\\lib\\site-packages (from jupyterlab-server<3,>=2.3.0->voila) (2.27.1)\n",
      "Requirement already satisfied: babel in c:\\users\\magus\\anaconda3\\envs\\ml\\lib\\site-packages (from jupyterlab-server<3,>=2.3.0->voila) (2.9.1)\n",
      "Requirement already satisfied: json5 in c:\\users\\magus\\anaconda3\\envs\\ml\\lib\\site-packages (from jupyterlab-server<3,>=2.3.0->voila) (0.9.6)\n",
      "Requirement already satisfied: jsonschema>=3.0.1 in c:\\users\\magus\\anaconda3\\envs\\ml\\lib\\site-packages (from jupyterlab-server<3,>=2.3.0->voila) (3.2.0)\n",
      "Requirement already satisfied: MarkupSafe>=2.0 in c:\\users\\magus\\anaconda3\\envs\\ml\\lib\\site-packages (from jinja2->jupyter-server<2.0.0,>=0.3.0->voila) (2.0.1)\n",
      "Requirement already satisfied: setuptools in c:\\users\\magus\\anaconda3\\envs\\ml\\lib\\site-packages (from jsonschema>=3.0.1->jupyterlab-server<3,>=2.3.0->voila) (58.0.4)\n",
      "Requirement already satisfied: attrs>=17.4.0 in c:\\users\\magus\\anaconda3\\envs\\ml\\lib\\site-packages (from jsonschema>=3.0.1->jupyterlab-server<3,>=2.3.0->voila) (21.4.0)\n",
      "Requirement already satisfied: importlib-metadata in c:\\users\\magus\\anaconda3\\envs\\ml\\lib\\site-packages (from jsonschema>=3.0.1->jupyterlab-server<3,>=2.3.0->voila) (4.11.3)\n",
      "Requirement already satisfied: pyrsistent>=0.14.0 in c:\\users\\magus\\anaconda3\\envs\\ml\\lib\\site-packages (from jsonschema>=3.0.1->jupyterlab-server<3,>=2.3.0->voila) (0.18.0)\n",
      "Requirement already satisfied: six>=1.11.0 in c:\\users\\magus\\anaconda3\\envs\\ml\\lib\\site-packages (from jsonschema>=3.0.1->jupyterlab-server<3,>=2.3.0->voila) (1.16.0)\n",
      "Requirement already satisfied: pygments>=2.4.1 in c:\\users\\magus\\anaconda3\\envs\\ml\\lib\\site-packages (from nbconvert<7,>=6.4.5->voila) (2.11.2)\n",
      "Requirement already satisfied: pandocfilters>=1.4.1 in c:\\users\\magus\\anaconda3\\envs\\ml\\lib\\site-packages (from nbconvert<7,>=6.4.5->voila) (1.5.0)\n",
      "Requirement already satisfied: bleach in c:\\users\\magus\\anaconda3\\envs\\ml\\lib\\site-packages (from nbconvert<7,>=6.4.5->voila) (4.1.0)\n",
      "Requirement already satisfied: mistune<2,>=0.8.1 in c:\\users\\magus\\anaconda3\\envs\\ml\\lib\\site-packages (from nbconvert<7,>=6.4.5->voila) (0.8.4)\n",
      "Requirement already satisfied: defusedxml in c:\\users\\magus\\anaconda3\\envs\\ml\\lib\\site-packages (from nbconvert<7,>=6.4.5->voila) (0.7.1)\n",
      "Requirement already satisfied: testpath in c:\\users\\magus\\anaconda3\\envs\\ml\\lib\\site-packages (from nbconvert<7,>=6.4.5->voila) (0.5.0)\n",
      "Requirement already satisfied: jupyterlab-pygments in c:\\users\\magus\\anaconda3\\envs\\ml\\lib\\site-packages (from nbconvert<7,>=6.4.5->voila) (0.1.2)\n",
      "Requirement already satisfied: beautifulsoup4 in c:\\users\\magus\\anaconda3\\envs\\ml\\lib\\site-packages (from nbconvert<7,>=6.4.5->voila) (4.10.0)\n",
      "Requirement already satisfied: fastjsonschema in c:\\users\\magus\\anaconda3\\envs\\ml\\lib\\site-packages (from nbformat>=5.2.0->jupyter-server<2.0.0,>=0.3.0->voila) (2.15.3)\n",
      "Requirement already satisfied: argon2-cffi-bindings in c:\\users\\magus\\anaconda3\\envs\\ml\\lib\\site-packages (from argon2-cffi->jupyter-server<2.0.0,>=0.3.0->voila) (21.2.0)\n",
      "Requirement already satisfied: cffi>=1.0.1 in c:\\users\\magus\\anaconda3\\envs\\ml\\lib\\site-packages (from argon2-cffi-bindings->argon2-cffi->jupyter-server<2.0.0,>=0.3.0->voila) (1.15.0)\n",
      "Requirement already satisfied: pycparser in c:\\users\\magus\\anaconda3\\envs\\ml\\lib\\site-packages (from cffi>=1.0.1->argon2-cffi-bindings->argon2-cffi->jupyter-server<2.0.0,>=0.3.0->voila) (2.21)\n",
      "Requirement already satisfied: pytz>=2015.7 in c:\\users\\magus\\anaconda3\\envs\\ml\\lib\\site-packages (from babel->jupyterlab-server<3,>=2.3.0->voila) (2021.3)\n",
      "Requirement already satisfied: soupsieve>1.2 in c:\\users\\magus\\anaconda3\\envs\\ml\\lib\\site-packages (from beautifulsoup4->nbconvert<7,>=6.4.5->voila) (2.3.2)\n",
      "Requirement already satisfied: webencodings in c:\\users\\magus\\anaconda3\\envs\\ml\\lib\\site-packages (from bleach->nbconvert<7,>=6.4.5->voila) (0.5.1)\n",
      "Requirement already satisfied: zipp>=0.5 in c:\\users\\magus\\anaconda3\\envs\\ml\\lib\\site-packages (from importlib-metadata->jsonschema>=3.0.1->jupyterlab-server<3,>=2.3.0->voila) (3.7.0)\n",
      "Requirement already satisfied: pyparsing!=3.0.5,>=2.0.2 in c:\\users\\magus\\anaconda3\\envs\\ml\\lib\\site-packages (from packaging->jupyter-server<2.0.0,>=0.3.0->voila) (3.0.4)\n",
      "Requirement already satisfied: urllib3<1.27,>=1.21.1 in c:\\users\\magus\\anaconda3\\envs\\ml\\lib\\site-packages (from requests->jupyterlab-server<3,>=2.3.0->voila) (1.26.8)\n",
      "Requirement already satisfied: certifi>=2017.4.17 in c:\\users\\magus\\anaconda3\\envs\\ml\\lib\\site-packages (from requests->jupyterlab-server<3,>=2.3.0->voila) (2021.10.8)\n",
      "Requirement already satisfied: charset-normalizer~=2.0.0 in c:\\users\\magus\\anaconda3\\envs\\ml\\lib\\site-packages (from requests->jupyterlab-server<3,>=2.3.0->voila) (2.0.4)\n"
     ]
    },
    {
     "name": "stderr",
     "output_type": "stream",
     "text": [
      "Enabling: voila\n",
      "- Writing config: C:\\Users\\magus\\Anaconda3\\envs\\ML\\etc\\jupyter\n",
      "    - Validating...\n",
      "      voila 0.3.5 ok\n"
     ]
    }
   ],
   "source": [
    "!pip install voila\n",
    "!jupyter serverextension enable --sys-prefix voila"
   ]
  },
  {
   "cell_type": "code",
   "execution_count": 2,
   "id": "1e7605df",
   "metadata": {},
   "outputs": [],
   "source": [
    "from fastai.vision.all import *\n",
    "from fastai.vision.widgets import *"
   ]
  },
  {
   "cell_type": "code",
   "execution_count": 3,
   "id": "cc558744",
   "metadata": {},
   "outputs": [],
   "source": [
    "path = Path()\n",
    "learn_inf = load_learner(path/'export.pkl', cpu=True)\n",
    "btn_upload = widgets.FileUpload()\n",
    "out_pl = widgets.Output()\n",
    "lbl_pred = widgets.Label()"
   ]
  },
  {
   "cell_type": "code",
   "execution_count": 4,
   "id": "609aeeda",
   "metadata": {},
   "outputs": [],
   "source": [
    "def on_data_change(change):\n",
    "    lbl_pred.value = ''\n",
    "    img = PILImage.create(btn_upload.data[-1])\n",
    "    out_pl.clear_output()\n",
    "    with out_pl: display(img.to_thumb(128,128))\n",
    "    pred,pred_idx,probs = learn_inf.predict(img)\n",
    "    lbl_pred.value = f'Prediction: {pred}; Probability: {probs[pred_idx]:.04f}'"
   ]
  },
  {
   "cell_type": "code",
   "execution_count": 5,
   "id": "a6221276",
   "metadata": {},
   "outputs": [],
   "source": [
    "btn_upload.observe(on_data_change, names=['data'])"
   ]
  },
  {
   "cell_type": "code",
   "execution_count": 7,
   "id": "0b0b61b3",
   "metadata": {},
   "outputs": [
    {
     "data": {
      "application/vnd.jupyter.widget-view+json": {
       "model_id": "7542bac6d9a04cdda7a10241d84ec97b",
       "version_major": 2,
       "version_minor": 0
      },
      "text/plain": [
       "VBox(children=(Label(value='Select your gun!'), FileUpload(value={'marlin1895.jpg': {'metadata': {'name': 'mar…"
      ]
     },
     "metadata": {},
     "output_type": "display_data"
    }
   ],
   "source": [
    "display(VBox([widgets.Label('Select your gun!'), btn_upload, out_pl, lbl_pred]))"
   ]
  },
  {
   "cell_type": "code",
   "execution_count": null,
   "id": "41a98313",
   "metadata": {},
   "outputs": [],
   "source": []
  }
 ],
 "metadata": {
  "kernelspec": {
   "display_name": "Python 3 (ipykernel)",
   "language": "python",
   "name": "python3"
  },
  "language_info": {
   "codemirror_mode": {
    "name": "ipython",
    "version": 3
   },
   "file_extension": ".py",
   "mimetype": "text/x-python",
   "name": "python",
   "nbconvert_exporter": "python",
   "pygments_lexer": "ipython3",
   "version": "3.7.13"
  }
 },
 "nbformat": 4,
 "nbformat_minor": 5
}
